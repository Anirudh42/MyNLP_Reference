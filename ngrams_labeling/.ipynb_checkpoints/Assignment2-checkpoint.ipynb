{
 "cells": [
  {
   "cell_type": "code",
   "execution_count": 1,
   "metadata": {
    "colab": {
     "base_uri": "https://localhost:8080/",
     "height": 445,
     "resources": {
      "http://localhost:8080/nbextensions/google.colab/files.js": {
       "data": "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",
       "headers": [
        [
         "content-type",
         "application/javascript"
        ]
       ],
       "ok": true,
       "status": 200,
       "status_text": ""
      }
     }
    },
    "colab_type": "code",
    "id": "LyDVSqG53MBT",
    "outputId": "fd5ad223-fff8-400f-89f5-3a4fa30db55b"
   },
   "outputs": [],
   "source": [
    "import pandas as pd\n",
    "import numpy as np\n",
    "from nltk import ngrams"
   ]
  },
  {
   "cell_type": "code",
   "execution_count": 2,
   "metadata": {
    "colab": {},
    "colab_type": "code",
    "id": "9LaEcwpC3MBX"
   },
   "outputs": [],
   "source": [
    "import io\n",
    "#Training data with stop words\n",
    "pos_data=pd.read_csv(\"train_positive.csv\",sep=\"\\n\",names=['text'])\n",
    "pos_data['label']=pd.Series([int(1)]*len(pos_data))\n",
    "neg_data=pd.read_csv(\"train_negative.csv\",sep=\"\\n\",names=['text'])\n",
    "neg_data['label']=pd.Series([int(0)]*len(neg_data))\n",
    "train_data=pd.concat((pos_data,neg_data),axis=0)\n",
    "#Testing data with stop words\n",
    "pos_testdata=pd.read_csv(\"test_positive.csv\",sep=\"\\n\",names=['text'])\n",
    "pos_testdata['label']=pd.Series([int(1)]*len(pos_testdata))\n",
    "neg_testdata=pd.read_csv(\"test_negative.csv\",sep=\"\\n\",names=['text'])\n",
    "neg_testdata['label']=pd.Series([int(0)]*len(neg_testdata))\n",
    "test_data=pd.concat((pos_testdata,neg_testdata),axis=0)\n",
    "\n",
    "#Validation with stop words\n",
    "pos_valdata=pd.read_csv(\"val_positive.csv\",sep=\"\\n\",names=['text'])\n",
    "pos_valdata['label']=pd.Series([int(1)]*len(pos_valdata))\n",
    "neg_valdata=pd.read_csv(\"val_negative.csv\",sep=\"\\n\",names=['text'])\n",
    "neg_valdata['label']=pd.Series([int(0)]*len(neg_valdata))\n",
    "val_data=pd.concat((pos_valdata,neg_valdata),axis=0)\n",
    "#Training data no stop words\n",
    "pos_data_nosw=pd.read_csv(\"train_positive_no_stopword.csv\",sep=\"\\n\",names=['text'])\n",
    "pos_data_nosw['label']=pd.Series([int(1)]*len(pos_data_nosw))\n",
    "neg_data_nosw=pd.read_csv(\"train_negative_no_stopword.csv\",sep=\"\\n\",names=['text'])\n",
    "neg_data_nosw['label']=pd.Series([int(0)]*len(neg_data_nosw))\n",
    "train_data_nosw=pd.concat((pos_data_nosw,neg_data_nosw),axis=0)\n",
    "\n",
    "#Validation data no stop words\n",
    "pos_valdata_nosw=pd.read_csv(\"val_positive_no_stopword.csv\",sep=\"\\n\",names=['text'])\n",
    "pos_valdata_nosw['label']=pd.Series([int(1)]*len(pos_valdata_nosw))\n",
    "neg_valdata_nosw=pd.read_csv(\"val_negative_no_stopword.csv\",sep=\"\\n\",names=['text'])\n",
    "neg_valdata_nosw['label']=pd.Series([int(0)]*len(neg_valdata_nosw))\n",
    "val_data_nosw=pd.concat((pos_valdata_nosw,neg_valdata_nosw),axis=0)\n",
    "\n",
    "#Testing Data no stop words\n",
    "pos_testdata_nosw=pd.read_csv(\"test_positive_no_stopword.csv\",sep=\"\\n\",names=['text'])\n",
    "pos_testdata_nosw['label']=pd.Series([int(1)]*len(pos_testdata_nosw))\n",
    "neg_testdata_nosw=pd.read_csv(\"test_negative_no_stopword.csv\",sep=\"\\n\",names=['text'])\n",
    "neg_testdata_nosw['label']=pd.Series([int(0)]*len(neg_testdata_nosw))\n",
    "test_data_nosw=pd.concat((pos_testdata_nosw,neg_testdata_nosw),axis=0)"
   ]
  },
  {
   "cell_type": "code",
   "execution_count": 3,
   "metadata": {
    "colab": {},
    "colab_type": "code",
    "id": "JsOLJG9x5eQ8"
   },
   "outputs": [],
   "source": [
    "train_data=[eval(train_data.text.iloc[i]) for i in range(len(train_data))]\n",
    "val_data=[eval(val_data.text.iloc[i]) for i in range(len(val_data))]\n",
    "test_data=[eval(test_data.text.iloc[i]) for i in range(len(test_data))]\n",
    "\n",
    "\n",
    "train_data_nosw=[eval(train_data_nosw.text.iloc[i]) for i in range(len(train_data_nosw))]\n",
    "val_data_nosw=[eval(val_data_nosw.text.iloc[i]) for i in range(len(val_data_nosw))]\n",
    "test_data_nosw=[eval(test_data_nosw.text.iloc[i]) for i in range(len(test_data_nosw))]"
   ]
  },
  {
   "cell_type": "code",
   "execution_count": 4,
   "metadata": {
    "colab": {},
    "colab_type": "code",
    "id": "NXRKdrOT3MBm"
   },
   "outputs": [],
   "source": [
    "def create_ngrams(my_data,n):\n",
    "  temp_list=[]\n",
    "  for i in range(len(my_data)):\n",
    "      temp_list.append([list(my_data[i][j:j+n]) for j in range(len(my_data[i])-(n-1))])\n",
    "\n",
    "  for i in range(len(temp_list)):\n",
    "    for j in range(len(temp_list[i])):\n",
    "        temp_list[i][j]=\" \".join(temp_list[i][j])\n",
    "  return temp_list"
   ]
  },
  {
   "cell_type": "code",
   "execution_count": null,
   "metadata": {
    "colab": {},
    "colab_type": "code",
    "id": "uDKwE9dYMT9F"
   },
   "outputs": [],
   "source": [
    "train_unigrams = create_ngrams(train_data,1)\n",
    "val_unigrams = create_ngrams(val_data,1)\n",
    "test_unigrams = create_ngrams(test_data,1)\n",
    "\n",
    "train_bigrams = create_ngrams(train_data,2)\n",
    "val_bigrams = create_ngrams(val_data,2)\n",
    "test_bigrams = create_ngrams(test_data,2)\n",
    "\n",
    "train_unigrams_nosw = create_ngrams(train_data_nosw,1)\n",
    "val_unigrams_nosw = create_ngrams(val_data_nosw,1)\n",
    "test_unigrams_nosw = create_ngrams(test_data_nosw,1)\n",
    "\n",
    "train_bigrams_nosw = create_ngrams(train_data_nosw,2)\n",
    "val_bigrams_nosw = create_ngrams(val_data_nosw,2)\n",
    "test_bigrams_nosw = create_ngrams(test_data_nosw,2)\n",
    "\n",
    "train_mix = [train_unigrams[i]+train_bigrams[i] for i in range(len(train_data))]\n",
    "val_mix = [val_unigrams[i]+val_bigrams[i] for i in range(len(val_data))]\n",
    "test_mix = [test_unigrams[i]+test_bigrams[i] for i in range(len(test_data))]\n",
    "\n",
    "train_mix_nosw = [train_unigrams_nosw[i]+train_bigrams_nosw[i] for i in range(len(train_data_nosw))]\n",
    "val_mix_nosw = [val_unigrams_nosw[i]+val_bigrams_nosw[i] for i in range(len(val_data_nosw))]\n",
    "test_mix_nosw = [test_unigrams_nosw[i]+test_bigrams_nosw[i] for i in range(len(test_data_nosw))]"
   ]
  },
  {
   "cell_type": "code",
   "execution_count": null,
   "metadata": {
    "colab": {},
    "colab_type": "code",
    "id": "oz6wSpvN3MBu"
   },
   "outputs": [],
   "source": [
    "from collections import OrderedDict\n",
    "def label_data(my_text,data1):\n",
    "  temp=[]\n",
    "  for i in range(len(my_text)):\n",
    "      a=OrderedDict()\n",
    "      for j in range(len(my_text[i])):\n",
    "          a[my_text[i][j]]=True\n",
    "      if i<len(data1):\n",
    "          temp.append((a,1))\n",
    "      else:\n",
    "          temp.append((a,0))\n",
    "  return temp"
   ]
  },
  {
   "cell_type": "code",
   "execution_count": null,
   "metadata": {
    "colab": {},
    "colab_type": "code",
    "id": "4IdPATIREVQn"
   },
   "outputs": [],
   "source": [
    "trainInput_unigrams=label_data(train_unigrams,pos_data)\n",
    "trainInput_unigrams_nosw=label_data(train_unigrams_nosw,pos_data_nosw)\n",
    "trainInput_bigrams=label_data(train_bigrams,pos_data)\n",
    "trainInput_bigrams_nosw=label_data(train_bigrams_nosw,pos_data_nosw)\n",
    "trainInput_mix = label_data(train_mix,pos_data)\n",
    "trainInput_mix_nosw = label_data(train_mix_nosw,pos_data_nosw)\n",
    "\n",
    "valInput_unigrams=label_data(val_unigrams,pos_valdata)\n",
    "valInput_unigrams_nosw=label_data(val_unigrams_nosw,pos_valdata_nosw)\n",
    "valInput_bigrams=label_data(val_bigrams,pos_valdata)\n",
    "valInput_bigrams_nosw=label_data(val_bigrams_nosw,pos_valdata_nosw)\n",
    "valInput_mix=label_data(val_mix,pos_valdata)\n",
    "valInput_mix_nosw=label_data(val_mix_nosw,pos_valdata_nosw)\n",
    "\n",
    "\n",
    "testInput_unigrams=label_data(test_unigrams,pos_testdata)\n",
    "testInput_unigrams_nosw=label_data(test_unigrams_nosw,pos_testdata_nosw)\n",
    "testInput_bigrams=label_data(test_bigrams,pos_testdata)\n",
    "testInput_bigrams_nosw=label_data(test_bigrams_nosw,pos_testdata_nosw)\n",
    "testInput_mix=label_data(test_mix,pos_testdata)\n",
    "testInput_mix_nosw=label_data(test_mix_nosw,pos_testdata_nosw)\n",
    "\n"
   ]
  },
  {
   "cell_type": "code",
   "execution_count": null,
   "metadata": {
    "colab": {},
    "colab_type": "code",
    "id": "yIQBLg_leI9P"
   },
   "outputs": [],
   "source": [
    "full_data=[trainInput_unigrams,trainInput_unigrams_nosw,trainInput_bigrams,trainInput_bigrams_nosw,trainInput_mix,trainInput_mix_nosw,valInput_unigrams,valInput_unigrams_nosw,valInput_bigrams,valInput_bigrams_nosw,\n",
    "          valInput_mix,valInput_mix_nosw]\n",
    "full_data_test=[testInput_unigrams,testInput_unigrams_nosw,testInput_bigrams,testInput_bigrams_nosw,testInput_mix,testInput_mix_nosw]"
   ]
  },
  {
   "cell_type": "code",
   "execution_count": null,
   "metadata": {
    "colab": {},
    "colab_type": "code",
    "id": "TLVY6LNUDrZB"
   },
   "outputs": [],
   "source": [
    "import random\n",
    "import nltk\n",
    "from nltk.classify.scikitlearn import SklearnClassifier\n",
    "from sklearn.naive_bayes import MultinomialNB\n",
    "for i in full_data:\n",
    "  random.shuffle(i)"
   ]
  },
  {
   "cell_type": "code",
   "execution_count": null,
   "metadata": {
    "colab": {
     "base_uri": "https://localhost:8080/",
     "height": 375
    },
    "colab_type": "code",
    "id": "8TZxvrKb3MBx",
    "outputId": "8c7b9817-6d2d-4804-81f5-658c4b4288f2"
   },
   "outputs": [],
   "source": [
    "a=np.arange(0.1,1.4,0.1)\n",
    "accuracies=[]\n",
    "for i in range(0,6):\n",
    "  values=[]\n",
    "  for j in a:\n",
    "    mnb= SklearnClassifier(MultinomialNB(alpha=j))\n",
    "    classifier=mnb.train(full_data[i])\n",
    "    values.append(nltk.classify.accuracy(classifier,full_data[i+6]))\n",
    "  accuracies.append(values)"
   ]
  },
  {
   "cell_type": "code",
   "execution_count": 3,
   "metadata": {},
   "outputs": [
    {
     "data": {
      "text/plain": [
       "0.1"
      ]
     },
     "execution_count": 3,
     "metadata": {},
     "output_type": "execute_result"
    }
   ],
   "source": [
    "test_accuracies=[]\n",
    "for i in range(0,6):\n",
    "    mnb= SklearnClassifier(MultinomialNB(alpha=a[np.argmax(accuracies[i])]))\n",
    "    classifier=mnb.train(full_data[i])\n",
    "    test_accuracies.append(nltk.classify.accuracy(classifier,full_data_test[i]))   "
   ]
  },
  {
   "cell_type": "code",
   "execution_count": null,
   "metadata": {},
   "outputs": [],
   "source": [
    "print(\"Accuracy values:\")\n",
    "print(\"Unigrams with Stop Words : \" + str(test_accuracies[0]))\n",
    "print(\"Unigrams without Stop Words : \" + str(test_accuracies[1]))\n",
    "print(\"Bigrams with Stop Words : \" + str(test_accuracies[2]))\n",
    "print(\"Bigrams without Stop Words : \" + str(test_accuracies[3]))\n",
    "print(\"Unigrams + Bigrams with Stop Words : \" + str(test_accuracies[4]))\n",
    "print(\"Unigrams + Bigrams without Stop Words : \" + str(test_accuracies[5]))"
   ]
  }
 ],
 "metadata": {
  "accelerator": "TPU",
  "colab": {
   "collapsed_sections": [],
   "name": "Assignment2.ipynb",
   "provenance": [],
   "version": "0.3.2"
  },
  "kernelspec": {
   "display_name": "Python 3",
   "language": "python",
   "name": "python3"
  },
  "language_info": {
   "codemirror_mode": {
    "name": "ipython",
    "version": 3
   },
   "file_extension": ".py",
   "mimetype": "text/x-python",
   "name": "python",
   "nbconvert_exporter": "python",
   "pygments_lexer": "ipython3",
   "version": "3.7.1"
  }
 },
 "nbformat": 4,
 "nbformat_minor": 1
}
